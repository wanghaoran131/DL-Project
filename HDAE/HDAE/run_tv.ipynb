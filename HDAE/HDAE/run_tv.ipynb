{
 "cells": [
  {
   "cell_type": "markdown",
   "metadata": {},
   "source": [
    "# Running HDAE for OPOSUM and Restaurant Review Dataset\n",
    "\n",
    "After running the following code, all the information of evaluation for each epoch will be store in `Results` folder, including `F1 score`, `bar plot`, and `TSNE plot` shown in our paper."
   ]
  },
  {
   "cell_type": "code",
   "execution_count": 1,
   "metadata": {},
   "outputs": [
    {
     "name": "stdout",
     "output_type": "stream",
     "text": [
      "dataset =  TV\n"
     ]
    }
   ],
   "source": [
    "\"\"\" Global Setting \"\"\"\n",
    "import os \n",
    "from config import get_hparams\n",
    "\n",
    "!export PYTHONPATH=\"./\"\n",
    "os.environ[\"CUDA_VISIBLE_DEVICES\"]=\"3\"\n",
    "\n",
    "from config import get_hparams\n",
    "\n",
    "# BOOTS, BAGS_AND_CASES, TV, KEYBOARDS, VACUUMS, BLUETOOTH\n",
    "# \"REST_\" + \"EN\" | \"SP\" | \"FR\" | \"RU\" | \"DU\" | \"TU\"\n",
    "DATASET = \"TV\"\n",
    "locals().update(get_hparams(DATASET))\n",
    "\n",
    "sumout = f\"./Results/{DATASET}/\"\n",
    "aspect_seeds = f\"./data/seedwords/{SEEDS}.{aspects}-weights.txt\"\n",
    "aspect_init_file = f\"./data/seedwords/{SEEDS}.{aspects}.txt\"\n",
    "train_type = \"rec_mt_neva_tsne\"\n",
    "student_type = \"hyper_rec_dis_10_gbl_tsne\"\n",
    "\n",
    "command = f\"python3 ./main.py --sumout {sumout} \\\n",
    "                              --aspect_seeds {aspect_seeds} \\\n",
    "                              --aspect_init_file {aspect_init_file} \\\n",
    "                              --general_asp {general_asp} \\\n",
    "                              --dataset {DATASET} \\\n",
    "                              --train_type {train_type} --student_type {student_type} \\\n",
    "                              --lr {lr} \\\n",
    "                              --dis_mu {dis_mu} \\\n",
    "                              --hyper_beta {hyper_beta} \\\n",
    "                              --gb_temp {gb_temp} \\\n",
    "                              --w2v_ratio {w2v_ratio} \\\n",
    "                              --st_num_aspect {st_num_aspect} \\\n",
    "                              --mt_ratio {mt_ratio} \\\n",
    "                              --dis_1 {dis_1} --dis_2 {dis_2} --dis_3 {dis_3} \\\n",
    "                              --aspect_tsne_bt {aspect_tsne_bt}\""
   ]
  },
  {
   "cell_type": "code",
   "execution_count": null,
   "metadata": {},
   "outputs": [
    {
     "name": "stdout",
     "output_type": "stream",
     "text": [
      "Running Command:\n",
      "python3 ./main.py --sumout ./Results/TV/ --aspect_seeds ./data/seedwords/tv.30-weights.txt --aspect_init_file ./data/seedwords/tv.30.txt --general_asp 5 --dataset TV --train_type rec_mt_neva_tsne --student_type hyper_rec_dis_10_gbl_tsne --lr 3.5e-07 --dis_mu 4 --hyper_beta 0.02 --gb_temp 1e-05 --w2v_ratio 0.1 --st_num_aspect 9 --mt_ratio 1000 --dis_1 16.0 --dis_2 40.0 --dis_3 64.0 --aspect_tsne_bt 20\n",
      "Now GPU: GeForce GTX 1080 Ti\n",
      "loading dataset...\n",
      "dataset_size: 28648\n",
      "loading model...\n",
      "Epoch: 0\n",
      "100%|█████████████████████████████████████| 28648/28648 [47:03<00:00, 10.15it/s]\n",
      "epoch: 0, f1_mid: 0.582, prev_best: 0.000\n",
      "Epoch: 1\n",
      "100%|█████████████████████████████████████| 28648/28648 [47:17<00:00, 10.10it/s]\n",
      "epoch: 1, f1_mid: 0.610, prev_best: 0.582\n",
      "Epoch: 2\n",
      "100%|█████████████████████████████████████| 28648/28648 [47:47<00:00,  9.99it/s]\n",
      "epoch: 2, f1_mid: 0.649, prev_best: 0.610\n",
      "Epoch: 3\n",
      "100%|█████████████████████████████████████| 28648/28648 [47:52<00:00,  9.97it/s]\n",
      "epoch: 3, f1_mid: 0.671, prev_best: 0.649\n",
      "Epoch: 4\n",
      "100%|█████████████████████████████████████| 28648/28648 [48:00<00:00,  9.94it/s]\n",
      "epoch: 4, f1_mid: 0.691, prev_best: 0.671\n",
      "Epoch: 5\n",
      " 13%|████▊                                 | 3590/28648 [06:08<40:33, 10.30it/s]"
     ]
    }
   ],
   "source": [
    "\"\"\" Running HDAE \"\"\"\n",
    "print(\"Running Command:\")\n",
    "print(' '.join(command.split()))\n",
    "\n",
    "!{command}"
   ]
  },
  {
   "cell_type": "code",
   "execution_count": null,
   "metadata": {},
   "outputs": [],
   "source": [
    "\"\"\" Show Results \"\"\"\n",
    "from PIL import Image\n",
    "\n",
    "best_epoch = 1 # manually select\n",
    "\n",
    "display(Image.open(f\"{sumout}plot_fig{best_epoch}.png\").resize((800, 600)))\n",
    "display(Image.open(f\"{sumout}TSNE_type_fig{best_epoch}.png\").resize((800, 600)))"
   ]
  },
  {
   "cell_type": "code",
   "execution_count": null,
   "metadata": {},
   "outputs": [],
   "source": []
  },
  {
   "cell_type": "code",
   "execution_count": null,
   "metadata": {},
   "outputs": [],
   "source": []
  }
 ],
 "metadata": {
  "kernelspec": {
   "display_name": "base",
   "language": "python",
   "name": "base"
  },
  "language_info": {
   "codemirror_mode": {
    "name": "ipython",
    "version": 3
   },
   "file_extension": ".py",
   "mimetype": "text/x-python",
   "name": "python",
   "nbconvert_exporter": "python",
   "pygments_lexer": "ipython3",
   "version": "3.8.5"
  }
 },
 "nbformat": 4,
 "nbformat_minor": 4
}
